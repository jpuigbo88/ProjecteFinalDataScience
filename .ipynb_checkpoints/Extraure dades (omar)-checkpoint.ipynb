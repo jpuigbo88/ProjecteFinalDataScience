{
 "cells": [
  {
   "cell_type": "code",
   "execution_count": 1,
   "metadata": {
    "collapsed": false
   },
   "outputs": [
    {
     "ename": "ImportError",
     "evalue": "No module named netCDF4",
     "output_type": "error",
     "traceback": [
      "\u001b[1;31m---------------------------------------------------------------------------\u001b[0m",
      "\u001b[1;31mImportError\u001b[0m                               Traceback (most recent call last)",
      "\u001b[1;32m<ipython-input-1-641549f76762>\u001b[0m in \u001b[0;36m<module>\u001b[1;34m()\u001b[0m\n\u001b[0;32m      1\u001b[0m \u001b[1;32mimport\u001b[0m \u001b[0mmatplotlib\u001b[0m\u001b[1;33m.\u001b[0m\u001b[0mpyplot\u001b[0m \u001b[1;32mas\u001b[0m \u001b[0mplt\u001b[0m\u001b[1;33m\u001b[0m\u001b[0m\n\u001b[0;32m      2\u001b[0m \u001b[1;32mimport\u001b[0m \u001b[0mpandas\u001b[0m \u001b[1;32mas\u001b[0m \u001b[0mpd\u001b[0m\u001b[1;33m\u001b[0m\u001b[0m\n\u001b[1;32m----> 3\u001b[1;33m \u001b[1;32mimport\u001b[0m \u001b[0mnetCDF4\u001b[0m\u001b[1;33m\u001b[0m\u001b[0m\n\u001b[0m\u001b[0;32m      4\u001b[0m \u001b[1;32mimport\u001b[0m \u001b[0mnumpy\u001b[0m \u001b[1;32mas\u001b[0m \u001b[0mnp\u001b[0m\u001b[1;33m\u001b[0m\u001b[0m\n\u001b[0;32m      5\u001b[0m \u001b[1;32mfrom\u001b[0m \u001b[0mmpl_toolkits\u001b[0m\u001b[1;33m.\u001b[0m\u001b[0mbasemap\u001b[0m \u001b[1;32mimport\u001b[0m \u001b[0mBasemap\u001b[0m\u001b[1;33m\u001b[0m\u001b[0m\n",
      "\u001b[1;31mImportError\u001b[0m: No module named netCDF4"
     ]
    }
   ],
   "source": [
    "import matplotlib.pyplot as plt\n",
    "import pandas as pd\n",
    "import netCDF4\n",
    "import numpy as np\n",
    "from mpl_toolkits.basemap import Basemap\n",
    "%matplotlib inline"
   ]
  },
  {
   "cell_type": "markdown",
   "metadata": {},
   "source": [
    "#### Límits Latitud i Longitud:"
   ]
  },
  {
   "cell_type": "code",
   "execution_count": 199,
   "metadata": {
    "collapsed": true
   },
   "outputs": [],
   "source": [
    "lon_w=-5\n",
    "lon_e=5\n",
    "lat_s=40\n",
    "lat_n=43"
   ]
  },
  {
   "cell_type": "markdown",
   "metadata": {},
   "source": [
    "## Extracció del CDF amb el format \"Equal Area\" "
   ]
  },
  {
   "cell_type": "code",
   "execution_count": 210,
   "metadata": {
    "collapsed": false
   },
   "outputs": [],
   "source": [
    "nc = netCDF4.Dataset(\"Complete_TAVG_EqualArea.nc\")\n",
    "#nc.variables"
   ]
  },
  {
   "cell_type": "code",
   "execution_count": 211,
   "metadata": {
    "collapsed": false
   },
   "outputs": [],
   "source": [
    "time=nc.variables[\"time\"][:]\n",
    "lon=nc.variables[\"longitude\"][:]\n",
    "lat=nc.variables[\"latitude\"][:]\n",
    "temp=nc.variables[\"temperature\"][:,:] #format (TIME, map_point)\n",
    "\n",
    "index_list=np.array(0)\n",
    "for m in range(len(lon)):\n",
    "    if lon[m]>lon_w and lon[m]<lon_e and lat[m]>lat_s and lat[m]<lat_n:\n",
    "        index_list=np.append(index_list,m)\n",
    "index_list=index_list[1:]\n",
    "\n",
    "df=pd.DataFrame()\n",
    "df_i=pd.DataFrame()\n",
    "df_j=pd.DataFrame()\n",
    "for i in time[time<1760]: #substituir pel periode de temps que es busca\n",
    "    for j in index_list: # escollir aquesta opció o la següent depenent del que vulguem. Aquesta filtra pels limits donats\n",
    "    #for j in range(10):   #substituir per range(len(lon)) o limitar a l'espai desitjat si volem TOT\n",
    "        lon_j=lon[j]\n",
    "        lat_j=lat[j]\n",
    "        temp_j=temp[i,j]\n",
    "        data={\"time\":i,\"lon\":lon_j,\"lat\":lat_j,\"temp\":temp_j}\n",
    "        df_j=df_j.append(data,ignore_index=True)\n",
    "    df=df.append(df_j,ignore_index=True)"
   ]
  },
  {
   "cell_type": "code",
   "execution_count": 206,
   "metadata": {
    "collapsed": false
   },
   "outputs": [
    {
     "data": {
      "text/html": [
       "<div>\n",
       "<table border=\"1\" class=\"dataframe\">\n",
       "  <thead>\n",
       "    <tr style=\"text-align: right;\">\n",
       "      <th></th>\n",
       "      <th>lat</th>\n",
       "      <th>lon</th>\n",
       "      <th>temp</th>\n",
       "      <th>time</th>\n",
       "    </tr>\n",
       "  </thead>\n",
       "  <tbody>\n",
       "    <tr>\n",
       "      <th>0</th>\n",
       "      <td>42.594536</td>\n",
       "      <td>-4.363636</td>\n",
       "      <td>3.390132</td>\n",
       "      <td>1750.041667</td>\n",
       "    </tr>\n",
       "    <tr>\n",
       "      <th>1</th>\n",
       "      <td>42.594536</td>\n",
       "      <td>-2.181818</td>\n",
       "      <td>3.590294</td>\n",
       "      <td>1750.041667</td>\n",
       "    </tr>\n",
       "    <tr>\n",
       "      <th>2</th>\n",
       "      <td>42.594536</td>\n",
       "      <td>0.000000</td>\n",
       "      <td>3.269162</td>\n",
       "      <td>1750.041667</td>\n",
       "    </tr>\n",
       "    <tr>\n",
       "      <th>3</th>\n",
       "      <td>42.594536</td>\n",
       "      <td>2.181818</td>\n",
       "      <td>2.838427</td>\n",
       "      <td>1750.041667</td>\n",
       "    </tr>\n",
       "    <tr>\n",
       "      <th>4</th>\n",
       "      <td>40.988510</td>\n",
       "      <td>-4.260355</td>\n",
       "      <td>3.167189</td>\n",
       "      <td>1750.041667</td>\n",
       "    </tr>\n",
       "  </tbody>\n",
       "</table>\n",
       "</div>"
      ],
      "text/plain": [
       "         lat       lon      temp         time\n",
       "0  42.594536 -4.363636  3.390132  1750.041667\n",
       "1  42.594536 -2.181818  3.590294  1750.041667\n",
       "2  42.594536  0.000000  3.269162  1750.041667\n",
       "3  42.594536  2.181818  2.838427  1750.041667\n",
       "4  40.988510 -4.260355  3.167189  1750.041667"
      ]
     },
     "execution_count": 206,
     "metadata": {},
     "output_type": "execute_result"
    }
   ],
   "source": [
    "df.head()"
   ]
  },
  {
   "cell_type": "code",
   "execution_count": 213,
   "metadata": {
    "collapsed": false
   },
   "outputs": [
    {
     "data": {
      "text/plain": [
       "1616"
      ]
     },
     "execution_count": 213,
     "metadata": {},
     "output_type": "execute_result"
    }
   ],
   "source": [
    "index_list[3]"
   ]
  },
  {
   "cell_type": "markdown",
   "metadata": {},
   "source": [
    "## Extracció del CDF amb format \"1x1\" (també vàlid per al 0.25x0.25, en principi) "
   ]
  },
  {
   "cell_type": "code",
   "execution_count": 207,
   "metadata": {
    "collapsed": false
   },
   "outputs": [],
   "source": [
    "nc = netCDF4.Dataset(\"Complete_TAVG_LatLong1.nc\")\n",
    "#nc.variables"
   ]
  },
  {
   "cell_type": "code",
   "execution_count": 208,
   "metadata": {
    "collapsed": false
   },
   "outputs": [],
   "source": [
    "time=nc.variables[\"time\"][:]\n",
    "lon=nc.variables[\"longitude\"][:]\n",
    "lat=nc.variables[\"latitude\"][:]\n",
    "\n",
    "lon2=lon[lon<lon_e]\n",
    "lon_cat=lon2[lon2>lon_w]\n",
    "lat2=lat[lat>lat_s]\n",
    "lat_cat=lat2[lat2<lat_n]\n",
    "\n",
    "#temp=nc.variables[\"temperature\"][time[10],lat[10],lon[10]] #format (TIME, LATITUDE, LONGITUDE)\n",
    "df=pd.DataFrame()\n",
    "df_j=pd.DataFrame()\n",
    "df_k=pd.DataFrame()\n",
    "for i in time[time>=2013]: #substituir pel periode de temps que es busca\n",
    "    for j in lat_cat:   \n",
    "        for k in lon_cat:\n",
    "            temp=nc.variables[\"temperature\"][i,j,k]\n",
    "            data={\"time\":i,\"lon\":k,\"lat\":j,\"temp\":temp}\n",
    "            df_k=df_k.append(data,ignore_index=True)\n",
    "        df_j=df_j.append(df_k,ignore_index=True)\n",
    "    df=df.append(df_j,ignore_index=True)"
   ]
  },
  {
   "cell_type": "code",
   "execution_count": 209,
   "metadata": {
    "collapsed": false
   },
   "outputs": [
    {
     "data": {
      "text/html": [
       "<div>\n",
       "<table border=\"1\" class=\"dataframe\">\n",
       "  <thead>\n",
       "    <tr style=\"text-align: right;\">\n",
       "      <th></th>\n",
       "      <th>lat</th>\n",
       "      <th>lon</th>\n",
       "      <th>temp</th>\n",
       "      <th>time</th>\n",
       "    </tr>\n",
       "  </thead>\n",
       "  <tbody>\n",
       "    <tr>\n",
       "      <th>0</th>\n",
       "      <td>40.5</td>\n",
       "      <td>-4.5</td>\n",
       "      <td>--</td>\n",
       "      <td>2013.041667</td>\n",
       "    </tr>\n",
       "    <tr>\n",
       "      <th>1</th>\n",
       "      <td>40.5</td>\n",
       "      <td>-3.5</td>\n",
       "      <td>--</td>\n",
       "      <td>2013.041667</td>\n",
       "    </tr>\n",
       "    <tr>\n",
       "      <th>2</th>\n",
       "      <td>40.5</td>\n",
       "      <td>-2.5</td>\n",
       "      <td>--</td>\n",
       "      <td>2013.041667</td>\n",
       "    </tr>\n",
       "    <tr>\n",
       "      <th>3</th>\n",
       "      <td>40.5</td>\n",
       "      <td>-1.5</td>\n",
       "      <td>--</td>\n",
       "      <td>2013.041667</td>\n",
       "    </tr>\n",
       "    <tr>\n",
       "      <th>4</th>\n",
       "      <td>40.5</td>\n",
       "      <td>-0.5</td>\n",
       "      <td>--</td>\n",
       "      <td>2013.041667</td>\n",
       "    </tr>\n",
       "  </tbody>\n",
       "</table>\n",
       "</div>"
      ],
      "text/plain": [
       "    lat  lon temp         time\n",
       "0  40.5 -4.5   --  2013.041667\n",
       "1  40.5 -3.5   --  2013.041667\n",
       "2  40.5 -2.5   --  2013.041667\n",
       "3  40.5 -1.5   --  2013.041667\n",
       "4  40.5 -0.5   --  2013.041667"
      ]
     },
     "execution_count": 209,
     "metadata": {},
     "output_type": "execute_result"
    }
   ],
   "source": [
    "# o be faig mal l'extracció, o bé a catalunya no hi ha dades\n",
    "df.head()"
   ]
  },
  {
   "cell_type": "markdown",
   "metadata": {},
   "source": [
    "## Punt random del mapa plotejat "
   ]
  },
  {
   "cell_type": "code",
   "execution_count": 232,
   "metadata": {
    "collapsed": true
   },
   "outputs": [],
   "source": [
    "nc = netCDF4.Dataset(\"Complete_TAVG_EqualArea.nc\")\n",
    "\n",
    "time=nc.variables[\"time\"][:]\n",
    "j=index_list[3] #selecció random de latitud i longitud en el format \"Equal Area\"\n",
    "temp=nc.variables[\"temperature\"][:,3] #format (TIME, map_point)\n",
    "\n",
    "df=pd.DataFrame()\n",
    "df_i=pd.DataFrame()\n",
    "df_j=pd.DataFrame()\n",
    "for i in time[time>2015]:\n",
    "    lon_j=lon[j]\n",
    "    lat_j=lat[j]\n",
    "    temp_j=temp[i]\n",
    "    data={\"time\":i,\"lon\":lon_j,\"lat\":lat_j,\"temp\":temp_j}\n",
    "    df_j=df_j.append(data,ignore_index=True)\n",
    "df=df.append(df_j,ignore_index=True)"
   ]
  },
  {
   "cell_type": "code",
   "execution_count": 233,
   "metadata": {
    "collapsed": false
   },
   "outputs": [
    {
     "data": {
      "text/plain": [
       "[<matplotlib.lines.Line2D at 0x1149e2f0>]"
      ]
     },
     "execution_count": 233,
     "metadata": {},
     "output_type": "execute_result"
    },
    {
     "data": {
      "image/png": "[encoded data removed]",
      "text/plain": [
       "<matplotlib.figure.Figure at 0x1f02d950>"
      ]
     },
     "metadata": {},
     "output_type": "display_data"
    }
   ],
   "source": [
    "x,y=df.time.values,df.temp.values\n",
    "plot=plt.plot(x,y)\n",
    "plot"
   ]
  },
  {
   "cell_type": "code",
   "execution_count": null,
   "metadata": {
    "collapsed": true
   },
   "outputs": [],
   "source": []
  }
 ],
 "metadata": {
  "kernelspec": {
   "display_name": "Python 2",
   "language": "python",
   "name": "python2"
  },
  "language_info": {
   "codemirror_mode": {
    "name": "ipython",
    "version": 2
   },
   "file_extension": ".py",
   "mimetype": "text/x-python",
   "name": "python",
   "nbconvert_exporter": "python",
   "pygments_lexer": "ipython2",
   "version": "2.7.10"
  }
 },
 "nbformat": 4,
 "nbformat_minor": 0
}
